{
 "cells": [
  {
   "cell_type": "code",
   "execution_count": 2,
   "metadata": {},
   "outputs": [],
   "source": [
    "import pandas as pd\n",
    "from bs4 import BeautifulSoup\n",
    "import requests\n",
    "from tqdm import tqdm\n",
    "from time import sleep"
   ]
  },
  {
   "cell_type": "code",
   "execution_count": 43,
   "metadata": {},
   "outputs": [],
   "source": [
    "def extrai_dados_saojoao(ean):\n",
    "    url_principal = f'https://www.saojoaofarmacias.com.br/{ean}'\n",
    "    headers = {'user-Agent': 'Mozilla/5.0 (Windows NT 10.0; Win64; x64) AppleWebKit/537.36 (KHTML, like Gecko) Chrome/111.0.0.0 Safari/537.36'}\n",
    "    site = requests.get(url_principal, headers=headers)\n",
    "    soup = BeautifulSoup(site.content, 'html.parser')\n",
    "    link_interno_saojoao = \"https://www.saojoaofarmacias.com.br\" + f\"{soup.find('a', class_='vtex-product-summary-2-x-clearLink vtex-product-summary-2-x-clearLink--vitrine h-100 flex flex-column')['href']}\"\n",
    "    site_saojoao = requests.get(link_interno_saojoao, headers=headers)\n",
    "    soup_site_saojoao = BeautifulSoup(site_saojoao.content, 'html.parser')\n",
    "    cod_saojoao = ''\n",
    "    preco_saojoao = soup_site_saojoao.find('span', class_='sjdigital-custom-apps-0-x-currencyContainer').get_text()\n",
    "    preco_saojoao = float(preco_saojoao.replace('R$','').replace('.','').replace(',','.'))\n",
    "    lst_saojoao = [link_interno_saojoao, cod_saojoao, preco_saojoao]\n",
    "    return lst_saojoao"
   ]
  },
  {
   "cell_type": "code",
   "execution_count": 44,
   "metadata": {},
   "outputs": [
    {
     "data": {
      "text/plain": [
       "['https://www.saojoaofarmacias.com.br/100016455/p', '', 18.99]"
      ]
     },
     "execution_count": 44,
     "metadata": {},
     "output_type": "execute_result"
    }
   ],
   "source": [
    "extrai_dados_saojoao('7891058017507')"
   ]
  }
 ],
 "metadata": {
  "kernelspec": {
   "display_name": "Python 3.9.13 ('venv': venv)",
   "language": "python",
   "name": "python3"
  },
  "language_info": {
   "codemirror_mode": {
    "name": "ipython",
    "version": 3
   },
   "file_extension": ".py",
   "mimetype": "text/x-python",
   "name": "python",
   "nbconvert_exporter": "python",
   "pygments_lexer": "ipython3",
   "version": "3.9.13"
  },
  "orig_nbformat": 4,
  "vscode": {
   "interpreter": {
    "hash": "4a839e0e75267905b88d73bd31293e6a4f4a90ae1cd6fb52adeeba62890650a4"
   }
  }
 },
 "nbformat": 4,
 "nbformat_minor": 2
}

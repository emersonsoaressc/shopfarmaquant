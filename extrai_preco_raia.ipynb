{
 "cells": [
  {
   "cell_type": "code",
   "execution_count": 1,
   "metadata": {},
   "outputs": [],
   "source": [
    "import pandas as pd\n",
    "from bs4 import BeautifulSoup\n",
    "import requests\n",
    "from tqdm import tqdm\n",
    "from time import sleep\n",
    "from selenium import webdriver\n",
    "from selenium.webdriver.chrome.options import Options\n",
    "from selenium.webdriver.common.keys import Keys\n",
    "from selenium.webdriver.common.by import By\n",
    "import os\n",
    "import shutil\n",
    "\n",
    "options = webdriver.ChromeOptions()\n",
    "options.add_argument(\"--headless\")"
   ]
  },
  {
   "cell_type": "code",
   "execution_count": 100,
   "metadata": {},
   "outputs": [],
   "source": [
    "def extrai_dados_raia(ean):\n",
    "    url_cliquefarma = f'https://www.cliquefarma.com.br/preco/site/drogaraia/{ean}'\n",
    "    headers = {'user-Agent': 'Mozilla/5.0 (Windows NT 10.0; Win64; x64) AppleWebKit/537.36 (KHTML, like Gecko) Chrome/111.0.0.0 Safari/537.36'}\n",
    "    site = requests.get(url_cliquefarma, headers=headers)\n",
    "    soup = BeautifulSoup(site.content, 'html.parser')\n",
    "    link_interno_cliquefarma = soup.find('a', class_='link-oferta')['href']\n",
    "    site_interno_cliquefarma = requests.get(link_interno_cliquefarma, headers=headers)\n",
    "    soup_interno_cliquefarma = BeautifulSoup(site_interno_cliquefarma.content, 'html.parser')\n",
    "    link = soup_interno_cliquefarma.find('a', class_='inline-block')['href']\n",
    "    link_final_raia = f\"{'https://drogaraia.com.br/' + link.split('.br%2F')[1].split('%3')[0]}\"\n",
    "    site_raia = requests.get(link_final_raia, headers=headers)\n",
    "    soup_site_raia = BeautifulSoup(site_raia.content, 'html.parser')\n",
    "    cod_raia = soup_site_raia.find('span', class_='RaiaProductDescriptionstyles__Data-sc-1ijezxr-8').get_text()\n",
    "    preco_raia = soup_site_raia.find('span', class_='ProductPricestyles__Price-i0kwh2-4').get_text()\n",
    "    preco_raia = float(preco_raia.split('R$ ')[1].replace(',', '.'))\n",
    "    lst_raia = [link_final_raia, cod_raia, preco_raia]\n",
    "    return lst_raia"
   ]
  },
  {
   "cell_type": "code",
   "execution_count": 101,
   "metadata": {},
   "outputs": [
    {
     "data": {
      "text/plain": [
       "['https://drogaraia.com.br/cimelide-12-comprimidos.html', '58189', 8.64]"
      ]
     },
     "execution_count": 101,
     "metadata": {},
     "output_type": "execute_result"
    }
   ],
   "source": [
    "tst = extrai_dados_raia('7896523206110')\n",
    "tst"
   ]
  }
 ],
 "metadata": {
  "kernelspec": {
   "display_name": "Python 3.9.13 ('venv': venv)",
   "language": "python",
   "name": "python3"
  },
  "language_info": {
   "codemirror_mode": {
    "name": "ipython",
    "version": 3
   },
   "file_extension": ".py",
   "mimetype": "text/x-python",
   "name": "python",
   "nbconvert_exporter": "python",
   "pygments_lexer": "ipython3",
   "version": "3.9.13"
  },
  "orig_nbformat": 4,
  "vscode": {
   "interpreter": {
    "hash": "4a839e0e75267905b88d73bd31293e6a4f4a90ae1cd6fb52adeeba62890650a4"
   }
  }
 },
 "nbformat": 4,
 "nbformat_minor": 2
}

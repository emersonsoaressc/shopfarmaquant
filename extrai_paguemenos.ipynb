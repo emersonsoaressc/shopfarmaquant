{
 "cells": [
  {
   "cell_type": "code",
   "execution_count": 3,
   "metadata": {},
   "outputs": [],
   "source": [
    "import pandas as pd\n",
    "from bs4 import BeautifulSoup\n",
    "import requests\n",
    "from tqdm import tqdm\n",
    "from time import sleep"
   ]
  },
  {
   "cell_type": "code",
   "execution_count": 65,
   "metadata": {},
   "outputs": [],
   "source": [
    "def extrai_dados_paguemenos(ean):\n",
    "    url_principal = f'https://www.paguemenos.com.br/{ean}'\n",
    "    headers = {'user-Agent': 'Mozilla/5.0 (Windows NT 10.0; Win64; x64) AppleWebKit/537.36 (KHTML, like Gecko) Chrome/111.0.0.0 Safari/537.36'}\n",
    "    site = requests.get(url_principal, headers=headers)\n",
    "    soup = BeautifulSoup(site.content, 'html.parser')\n",
    "    link_interno_paguemenos = \"https://www.paguemenos.com.br\" + f\"{soup.find('a', class_='vtex-product-summary-2-x-clearLink')['href']}\"\n",
    "    site_paguemenos = requests.get(link_interno_paguemenos, headers=headers)\n",
    "    soup_site_paguemenos = BeautifulSoup(site_paguemenos.content, 'html.parser')\n",
    "    cod_paguemenos = soup_site_paguemenos.find('div', class_='pr0')\n",
    "    cod_paguemenos = cod_paguemenos.find('p').get_text()\n",
    "    cod_paguemenos = cod_paguemenos.split(' ')[1]\n",
    "    preco_paguemenos = soup_site_paguemenos.find('span', class_='vtex-store-components-3-x-sellingPrice vtex-store-components-3-x-sellingPriceValue t-heading-2-s dib ph2 vtex-store-components-3-x-price_sellingPrice').get_text()\n",
    "    preco_paguemenos = float(preco_paguemenos.replace('R$','').replace('.','').replace(',','.'))\n",
    "    lst_paguemenos = [link_interno_paguemenos, cod_paguemenos, preco_paguemenos]\n",
    "    return lst_paguemenos"
   ]
  },
  {
   "cell_type": "code",
   "execution_count": 66,
   "metadata": {},
   "outputs": [
    {
     "data": {
      "text/plain": [
       "['https://www.paguemenos.com.br/dorflex-analgesico-e-relaxante-muscular-36-comprimidos/p',\n",
       " '47676',\n",
       " 22.75]"
      ]
     },
     "execution_count": 66,
     "metadata": {},
     "output_type": "execute_result"
    }
   ],
   "source": [
    "extrai_dados_paguemenos('7891058017507')"
   ]
  }
 ],
 "metadata": {
  "kernelspec": {
   "display_name": "Python 3.9.13 ('venv': venv)",
   "language": "python",
   "name": "python3"
  },
  "language_info": {
   "codemirror_mode": {
    "name": "ipython",
    "version": 3
   },
   "file_extension": ".py",
   "mimetype": "text/x-python",
   "name": "python",
   "nbconvert_exporter": "python",
   "pygments_lexer": "ipython3",
   "version": "3.9.13"
  },
  "orig_nbformat": 4,
  "vscode": {
   "interpreter": {
    "hash": "4a839e0e75267905b88d73bd31293e6a4f4a90ae1cd6fb52adeeba62890650a4"
   }
  }
 },
 "nbformat": 4,
 "nbformat_minor": 2
}
